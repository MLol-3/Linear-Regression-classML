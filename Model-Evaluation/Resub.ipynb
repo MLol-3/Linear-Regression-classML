{
 "cells": [
  {
   "cell_type": "code",
   "execution_count": 1,
   "metadata": {},
   "outputs": [],
   "source": [
    "import pandas as pd\n",
    "import numpy as np\n",
    "from sklearn.linear_model import LinearRegression\n",
    "from sklearn.metrics import mean_squared_error"
   ]
  },
  {
   "cell_type": "code",
   "execution_count": 2,
   "metadata": {},
   "outputs": [],
   "source": [
    "# Load CSV data into a DataFrame based on user input\n",
    "data = pd.read_csv(\"../Data/HeightWeight.csv\")\n",
    "df = pd.DataFrame(data)"
   ]
  },
  {
   "cell_type": "code",
   "execution_count": 3,
   "metadata": {},
   "outputs": [],
   "source": [
    "nseed = 1000 #กำหนด seed ที่จะเอามาใช้ sample data\n",
    "data_sample = [20,100,1000] #กำหนดจำนวน sample data \n",
    "rmse_score = [] #เก็บ rmse ให้เป็น list\n"
   ]
  },
  {
   "cell_type": "code",
   "execution_count": 4,
   "metadata": {},
   "outputs": [],
   "source": [
    "for index,sample in enumerate(data_sample) : #เอา sample data ใน list มารันลูป 20,100,1000\n",
    "    rmse_score.append([]) #ทำให้ data แบ่งเป็นชั้น\n",
    "    for seed in range(1,nseed+1): #แต่ละ seed จะดึงข้อมูลออกมาแบบสุ่มตามจำนวน sample ให้ครบ 10 seed\n",
    "        data = df.sample(n=sample, random_state=seed) #\n",
    "        # Create model inputs and target from the selected DataFrame\n",
    "        X = data[['Height']]  # Features (independent variable)\n",
    "        y = data['Weight']    # Target variable (dependent variable)\n",
    "\n",
    "        model = LinearRegression()\n",
    "        model.fit(X,y) #learning \n",
    "        y_pred = model.predict(X)\n",
    "        rmse = np.sqrt(mean_squared_error(y, y_pred))\n",
    "        rmse_score[index].append(rmse) #เอาค่าที่ได้ไปเก็บใน list"
   ]
  },
  {
   "cell_type": "code",
   "execution_count": 5,
   "metadata": {},
   "outputs": [
    {
     "name": "stdout",
     "output_type": "stream",
     "text": [
      "จำนวน seed = 1000\n",
      "Test size: 20-sample\n",
      "Mean RMSE: 5.2184\n",
      "SD RMSE: 0.8983\n",
      "\n",
      "Test size: 100-sample\n",
      "Mean RMSE: 5.4687\n",
      "SD RMSE: 0.3829\n",
      "\n",
      "Test size: 1000-sample\n",
      "Mean RMSE: 5.5384\n",
      "SD RMSE: 0.1173\n",
      "\n"
     ]
    }
   ],
   "source": [
    "print(f\"จำนวน seed = {nseed}\") # แสดงจำนวน seed\n",
    "for index,sample in enumerate(data_sample): # เอา sample data ใน list มารันลูป 20,100,1000\n",
    "    print(f\"Test size: {sample}-sample\") # แสดง test size 20,100,1000\n",
    "    print(f\"Mean RMSE: {np.mean(rmse_score[index]):.4f}\") # แสดงค่าเฉลี่ยของ rmse\n",
    "    print(f\"SD RMSE: {np.std(rmse_score[index]):.4f}\\n\") # แสดงค่า standard ของ rmse"
   ]
  }
 ],
 "metadata": {
  "kernelspec": {
   "display_name": "Python 3",
   "language": "python",
   "name": "python3"
  },
  "language_info": {
   "codemirror_mode": {
    "name": "ipython",
    "version": 3
   },
   "file_extension": ".py",
   "mimetype": "text/x-python",
   "name": "python",
   "nbconvert_exporter": "python",
   "pygments_lexer": "ipython3",
   "version": "3.11.9"
  }
 },
 "nbformat": 4,
 "nbformat_minor": 2
}
