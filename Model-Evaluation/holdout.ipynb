{
 "cells": [
  {
   "cell_type": "markdown",
   "metadata": {},
   "source": [
    "import library ที่ใช้ใน code "
   ]
  },
  {
   "cell_type": "code",
   "execution_count": 5,
   "metadata": {},
   "outputs": [],
   "source": [
    "import pandas as pd\n",
    "import numpy as np\n",
    "from sklearn.metrics import mean_squared_error\n",
    "from sklearn.linear_model import LinearRegression\n",
    "from sklearn.model_selection import train_test_split"
   ]
  },
  {
   "cell_type": "markdown",
   "metadata": {},
   "source": [
    "ทำ Train Model แบบ Holdout โดยการแบ่ง Data ไป Test จะดูที่การตั้งค่าของ test_size เท่าไร เช่น test_size = 0.5 ก็คือแบ่งไป test 50% และ train อีก 50% และมีการทำ Root Mean Square Error(rmse) เพื่อที่จะเช็คค่า error ของตัว Model "
   ]
  },
  {
   "cell_type": "code",
   "execution_count": 6,
   "metadata": {},
   "outputs": [],
   "source": [
    "# Function ในการใช้ train Model\n",
    "def train_model(seed,test_percent):\n",
    "  X_train, X_test, y_train, y_test = train_test_split(X, y, test_size= test_percent, random_state=seed)\n",
    "  #print(f\"{type(y_train)}\\n\\n{y_test}\\n\\n\")\n",
    "\n",
    "  y_train = pd.DataFrame(y_train)\n",
    "  y_test = pd.DataFrame(y_test)\n",
    "  #print(f\"{type(y_train)}\\n\\n{y_test}\\n\\n\")\n",
    "\n",
    "  model = LinearRegression()\n",
    "  model.fit(X_train, y_train)\n",
    "\n",
    "  #print(f\"{type(model)}\\n\\n\")\n",
    "\n",
    "  y_pred = model.predict(X_test)\n",
    "  rmse = mean_squared_error(y_test, y_pred)\n",
    "  rmse = (rmse)**0.5\n",
    "  # print(f\"Seed: {seed} RMSE: {rmse:.3f}\")\n",
    "  return model, rmse"
   ]
  },
  {
   "cell_type": "markdown",
   "metadata": {},
   "source": [
    "1.code ส่วนนี้ใช้ดึง Data จาก .csv โดยมี 3 Data หลักๆ คือ \n",
    "    1.1 HeightWeight20 คือ data ส่วนสูงและน้ำหนักจำนวน 20 ตัว\n",
    "    1.2 HeightWeight100 คือ data ส่วนสูงและน้ำหนักจำนวน 100 ตัว\n",
    "    1.3 HeightWeight คือ data ส่วนสูงและน้ำหนักจำนวน 10000 ตัว\n",
    "โดยสามารถเลือกข้อมูลได้โดยเป็นค่าที่ตัวแปร data_read เช่น data_read = 100 คือเราจะได้ data เป็น HeightWeight100 เป็นต้น\n",
    "2.ส่วนตัวแปร test_percent คือตัวแปรในการตั้ง percent ที่จะเอาไป test"
   ]
  },
  {
   "cell_type": "code",
   "execution_count": 7,
   "metadata": {},
   "outputs": [
    {
     "name": "stdout",
     "output_type": "stream",
     "text": [
      "This is data 100\n"
     ]
    }
   ],
   "source": [
    "# ตัวแปรที่บอกว่าเป็นdata(exel)20,100,10000\n",
    "data_read = 100\n",
    "# ตัวแปร percent ที่จะเอาไป test\n",
    "test_percent = [0.9, 0.8, 0.5, 0.2, 0.1]\n",
    "\n",
    "# สร้างเงื่อนไขเพื่อที่จะได้เลือก data(exel)จะเป็น 20,100,10000 ได้ง่าย\n",
    "if data_read == 20:\n",
    "    print(\"This is data 20\")\n",
    "    data = pd.read_csv(\"HeightWeight20.csv\")\n",
    "elif data_read == 100:\n",
    "    print(\"This is data 100\")\n",
    "    data = pd.read_csv(\"HeightWeight100.csv\")\n",
    "elif data_read == 10000:\n",
    "    print(\"This is data 10000\")\n",
    "    data = pd.read_csv(\"HeightWeight.csv\")"
   ]
  },
  {
   "cell_type": "markdown",
   "metadata": {},
   "source": [
    "ตัวแปรสำคัญหลักๆ มี 5 ตัว\n",
    "1.X คือ data Height ที่เป็น array 2d\n",
    "2.y คือ data Weight ที่เป็น array 1d\n",
    "3.df คือ นำ data Height และ Weight มาทำ dataframe\n",
    "4.n คือจำนวน random.seed ในการ train\n",
    "5.rmse_scores คือ เป็น list ที่เก็บค่า rmse"
   ]
  },
  {
   "cell_type": "code",
   "execution_count": 8,
   "metadata": {},
   "outputs": [],
   "source": [
    "# ค่าตัวแปรต่างๆ\n",
    "X = data[['Height']]\n",
    "y = data['Weight']\n",
    "\n",
    "dict = {'Height','Weight'}\n",
    "df = pd.DataFrame(dict)\n",
    "\n",
    "\n",
    "n = 100 # seed\n",
    "rmse_scores = []"
   ]
  },
  {
   "cell_type": "markdown",
   "metadata": {},
   "source": [
    "code ทำ Root Mean Square Error(rmse) วนไปตามจำนวนของ seed ซึ่ง code นี้ใช้ 100 seed โดยแบ่ง test_percent ซึ่งมีทั้งหมด 90%, 80%, 50%, 20%, 10%"
   ]
  },
  {
   "cell_type": "code",
   "execution_count": 9,
   "metadata": {},
   "outputs": [],
   "source": [
    "# ทำ RMSE ไปเก็บไว้ใน rmse_scores\n",
    "for index,test_size in enumerate(test_percent):\n",
    "    rmse_scores.append([])\n",
    "    for seed in range(1,n+1):\n",
    "        model, rmse = train_model(seed, test_size)\n",
    "        rmse_scores[index].append(rmse)"
   ]
  },
  {
   "cell_type": "markdown",
   "metadata": {},
   "source": [
    "code print ค่า standard deviation(SD) ของ Root Mean Square Error(rmse), ค่า mean(เฉลี่ย) ของ rmse และบอกเปอร์เซ็นต์ที่ใช้ test ด้วย"
   ]
  },
  {
   "cell_type": "code",
   "execution_count": 10,
   "metadata": {},
   "outputs": [
    {
     "name": "stdout",
     "output_type": "stream",
     "text": [
      "Test size: 90.0%\n",
      "Mean RMSE: 6.38\n",
      "SD RMSE: 0.69\n",
      "\n",
      "Test size: 80.0%\n",
      "Mean RMSE: 6.05\n",
      "SD RMSE: 0.35\n",
      "\n",
      "Test size: 50.0%\n",
      "Mean RMSE: 5.93\n",
      "SD RMSE: 0.38\n",
      "\n",
      "Test size: 20.0%\n",
      "Mean RMSE: 5.95\n",
      "SD RMSE: 0.79\n",
      "\n",
      "Test size: 10.0%\n",
      "Mean RMSE: 5.98\n",
      "SD RMSE: 1.11\n",
      "\n"
     ]
    }
   ],
   "source": [
    "for index,test_size in enumerate(test_percent):\n",
    "    print(f\"Test size: {test_size*100}%\")\n",
    "    print(f\"Mean RMSE: {np.mean(rmse_scores[index]):.2f}\")\n",
    "    print(f\"SD RMSE: {np.std(rmse_scores[index]):.2f}\\n\")"
   ]
  }
 ],
 "metadata": {
  "kernelspec": {
   "display_name": "Python 3",
   "language": "python",
   "name": "python3"
  },
  "language_info": {
   "codemirror_mode": {
    "name": "ipython",
    "version": 3
   },
   "file_extension": ".py",
   "mimetype": "text/x-python",
   "name": "python",
   "nbconvert_exporter": "python",
   "pygments_lexer": "ipython3",
   "version": "3.11.7"
  }
 },
 "nbformat": 4,
 "nbformat_minor": 2
}
