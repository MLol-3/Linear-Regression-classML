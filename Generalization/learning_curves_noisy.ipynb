{
 "cells": [
  {
   "cell_type": "markdown",
   "metadata": {},
   "source": [
    "# แบบฝึกหัดเขียนโปรแกรมครั้งที่ 2"
   ]
  },
  {
   "cell_type": "markdown",
   "metadata": {},
   "source": [
    "## 3.เขียนโปรแกรมสำหรับเส้นโค้งการเรียนรู้เปรียบเทียบระหว่างแบบจำลองค่าคงที่ แบบจำลองเชิงเส้น แบบจำลองเชิงเส้นผ่านจุดกำเนิด และทดลองเพิ่มเติมด้วยการใส่สัญญาณรบกวน (Lecture หน้า 35-37)"
   ]
  },
  {
   "cell_type": "code",
   "execution_count": 10,
   "metadata": {},
   "outputs": [],
   "source": [
    "import matplotlib.pyplot as plt\n",
    "import numpy as np\n",
    "import random\n"
   ]
  },
  {
   "cell_type": "code",
   "execution_count": 11,
   "metadata": {},
   "outputs": [],
   "source": [
    "\n",
    "def sin_pi(x):\n",
    "    return np.sin(np.dot(np.pi, x))\n"
   ]
  },
  {
   "cell_type": "code",
   "execution_count": 12,
   "metadata": {},
   "outputs": [],
   "source": [
    "\n",
    "def hypothesis(X,w):\n",
    "    X_b = np.c_[np.ones((X.shape[0], 1)), X]\n",
    "    return np.dot(X_b,w)\n"
   ]
  },
  {
   "cell_type": "code",
   "execution_count": 13,
   "metadata": {},
   "outputs": [],
   "source": [
    "\n",
    "def hypothesis_no_origin(x, w):\n",
    "    return w * x\n"
   ]
  },
  {
   "cell_type": "code",
   "execution_count": 14,
   "metadata": {},
   "outputs": [],
   "source": [
    "\n",
    "def constant_model(x, c):\n",
    "    return c * np.ones_like(x)\n"
   ]
  },
  {
   "cell_type": "code",
   "execution_count": 15,
   "metadata": {},
   "outputs": [],
   "source": [
    "\n",
    "def normal_equation(X, y):\n",
    "    return np.linalg.pinv(X.T.dot(X)).dot(X.T).dot(y)\n"
   ]
  },
  {
   "cell_type": "code",
   "execution_count": 16,
   "metadata": {},
   "outputs": [],
   "source": [
    "\n",
    "def generate_learning_curves(target_func, model_func, train_sizes, noise_level=0.0, n_iter=1000):\n",
    "    val_x = np.linspace(-1, 1, 100)\n",
    "    val_y = target_func(val_x) + np.random.normal(0, noise_level, val_x.shape)\n",
    "\n",
    "    e_in = []\n",
    "    e_out = []\n",
    "    model_params = []\n",
    "\n",
    "    for train_size in train_sizes:\n",
    "        train_errors = []\n",
    "        val_errors = []\n",
    "        iteration_params = []\n",
    "\n",
    "        for _ in range(n_iter):\n",
    "            sam_x = np.array(random.choices(val_x, k=train_size))\n",
    "            sam_y = target_func(sam_x) + np.random.normal(0, noise_level, sam_x.shape)\n",
    "\n",
    "            if model_func == constant_model:\n",
    "                model_param = np.mean(sam_y)\n",
    "            else:\n",
    "                X_b = np.c_[np.ones((sam_x.shape[0], 1)), sam_x] if model_func != hypothesis_no_origin else sam_x.reshape(-1, 1)\n",
    "                model_param = normal_equation(X_b, sam_y)\n",
    "\n",
    "            train_loss = np.mean((model_func(sam_x, model_param) - sam_y) ** 2)\n",
    "            train_errors.append(train_loss)\n",
    "\n",
    "            val_loss = np.mean((model_func(val_x, model_param) - val_y) ** 2)\n",
    "            val_errors.append(val_loss)\n",
    "\n",
    "            iteration_params.append(model_param)\n",
    "\n",
    "        e_in.append(np.mean(train_errors))\n",
    "        e_out.append(np.mean(val_errors))\n",
    "        model_params.append(np.mean(iteration_params, axis=0))\n",
    "\n",
    "    func_g = model_func(val_x, np.mean(model_params, axis=0))\n",
    "    bias = np.mean((func_g - val_y)**2)\n",
    "\n",
    "    return e_in, e_out, bias\n"
   ]
  },
  {
   "cell_type": "code",
   "execution_count": 17,
   "metadata": {},
   "outputs": [],
   "source": [
    "\n",
    "def plot_learning_curves(train_sizes, e_in, e_out, bias, model_name):\n",
    "    plt.figure(figsize=(12, 8))\n",
    "    plt.plot(train_sizes, e_in, label=f'E_in (Cross-validation error)', color='b')\n",
    "    plt.plot(train_sizes, e_out, label=f'E_out (Training error)', color='r')\n",
    "    plt.axhline(y=bias, color='g', linestyle=':', label=f'Bias ({bias:.2f})')\n",
    "    plt.xlabel(\"Training Set Size\")\n",
    "    plt.ylabel(\"Expected Error\")\n",
    "    plt.title(model_name)\n",
    "    plt.legend()\n",
    "    plt.grid(True)\n",
    "    plt.show()"
   ]
  },
  {
   "cell_type": "code",
   "execution_count": 18,
   "metadata": {},
   "outputs": [
    {
     "ename": "ValueError",
     "evalue": "shapes (2,2) and (1,) not aligned: 2 (dim 1) != 1 (dim 0)",
     "output_type": "error",
     "traceback": [
      "\u001b[0;31m---------------------------------------------------------------------------\u001b[0m",
      "\u001b[0;31mValueError\u001b[0m                                Traceback (most recent call last)",
      "Cell \u001b[0;32mIn[18], line 8\u001b[0m\n\u001b[1;32m      6\u001b[0m e_in_const, e_out_const, bias_const \u001b[38;5;241m=\u001b[39m generate_learning_curves(sin_pi, constant_model, train_sizes, noise_level)\n\u001b[1;32m      7\u001b[0m e_in_linear, e_out_linear, bias_linear \u001b[38;5;241m=\u001b[39m generate_learning_curves(sin_pi, hypothesis, train_sizes, noise_level)\n\u001b[0;32m----> 8\u001b[0m e_in_no_origin, e_out_no_origin, bias_no_origin \u001b[38;5;241m=\u001b[39m \u001b[43mgenerate_learning_curves\u001b[49m\u001b[43m(\u001b[49m\u001b[43msin_pi\u001b[49m\u001b[43m,\u001b[49m\u001b[43m \u001b[49m\u001b[43mhypothesis_no_origin\u001b[49m\u001b[43m,\u001b[49m\u001b[43m \u001b[49m\u001b[43mtrain_sizes\u001b[49m\u001b[43m,\u001b[49m\u001b[43m \u001b[49m\u001b[43mnoise_level\u001b[49m\u001b[43m)\u001b[49m\n\u001b[1;32m     10\u001b[0m \u001b[38;5;66;03m# Plot learning curves\u001b[39;00m\n\u001b[1;32m     11\u001b[0m plt\u001b[38;5;241m.\u001b[39mfigure(figsize\u001b[38;5;241m=\u001b[39m(\u001b[38;5;241m12\u001b[39m, \u001b[38;5;241m8\u001b[39m))\n",
      "Cell \u001b[0;32mIn[16], line 24\u001b[0m, in \u001b[0;36mgenerate_learning_curves\u001b[0;34m(target_func, model_func, train_sizes, noise_level, n_iter)\u001b[0m\n\u001b[1;32m     21\u001b[0m     X_b \u001b[38;5;241m=\u001b[39m np\u001b[38;5;241m.\u001b[39mc_[np\u001b[38;5;241m.\u001b[39mones((sam_x\u001b[38;5;241m.\u001b[39mshape[\u001b[38;5;241m0\u001b[39m], \u001b[38;5;241m1\u001b[39m)), sam_x] \u001b[38;5;28;01mif\u001b[39;00m model_func \u001b[38;5;241m!=\u001b[39m hypothesis_no_origin \u001b[38;5;28;01melse\u001b[39;00m sam_x\u001b[38;5;241m.\u001b[39mreshape(\u001b[38;5;241m-\u001b[39m\u001b[38;5;241m1\u001b[39m, \u001b[38;5;241m1\u001b[39m)\n\u001b[1;32m     22\u001b[0m     model_param \u001b[38;5;241m=\u001b[39m normal_equation(X_b, sam_y)\n\u001b[0;32m---> 24\u001b[0m train_loss \u001b[38;5;241m=\u001b[39m np\u001b[38;5;241m.\u001b[39mmean((\u001b[43mmodel_func\u001b[49m\u001b[43m(\u001b[49m\u001b[43msam_x\u001b[49m\u001b[43m,\u001b[49m\u001b[43m \u001b[49m\u001b[43mmodel_param\u001b[49m\u001b[43m)\u001b[49m \u001b[38;5;241m-\u001b[39m sam_y) \u001b[38;5;241m*\u001b[39m\u001b[38;5;241m*\u001b[39m \u001b[38;5;241m2\u001b[39m)\n\u001b[1;32m     25\u001b[0m train_errors\u001b[38;5;241m.\u001b[39mappend(train_loss)\n\u001b[1;32m     27\u001b[0m val_loss \u001b[38;5;241m=\u001b[39m np\u001b[38;5;241m.\u001b[39mmean((model_func(val_x, model_param) \u001b[38;5;241m-\u001b[39m val_y) \u001b[38;5;241m*\u001b[39m\u001b[38;5;241m*\u001b[39m \u001b[38;5;241m2\u001b[39m)\n",
      "Cell \u001b[0;32mIn[13], line 3\u001b[0m, in \u001b[0;36mhypothesis_no_origin\u001b[0;34m(X, w)\u001b[0m\n\u001b[1;32m      1\u001b[0m \u001b[38;5;28;01mdef\u001b[39;00m \u001b[38;5;21mhypothesis_no_origin\u001b[39m(X, w):\n\u001b[1;32m      2\u001b[0m     X_b \u001b[38;5;241m=\u001b[39m np\u001b[38;5;241m.\u001b[39mc_[np\u001b[38;5;241m.\u001b[39mones((X\u001b[38;5;241m.\u001b[39mshape[\u001b[38;5;241m0\u001b[39m], \u001b[38;5;241m1\u001b[39m)), X]\n\u001b[0;32m----> 3\u001b[0m     \u001b[38;5;28;01mreturn\u001b[39;00m \u001b[43mnp\u001b[49m\u001b[38;5;241;43m.\u001b[39;49m\u001b[43mdot\u001b[49m\u001b[43m(\u001b[49m\u001b[43mX_b\u001b[49m\u001b[43m,\u001b[49m\u001b[43mw\u001b[49m\u001b[43m)\u001b[49m\n",
      "\u001b[0;31mValueError\u001b[0m: shapes (2,2) and (1,) not aligned: 2 (dim 1) != 1 (dim 0)"
     ]
    }
   ],
   "source": [
    "\n",
    "# Define training set sizes\n",
    "train_sizes = range(2, 30, 2)\n",
    "\n",
    "# Generate learning curves for different models with noise\n",
    "noise_level = 0.3\n",
    "e_in_const, e_out_const, bias_const = generate_learning_curves(sin_pi, constant_model, train_sizes, noise_level)\n",
    "e_in_linear, e_out_linear, bias_linear = generate_learning_curves(sin_pi, hypothesis, train_sizes, noise_level)\n",
    "e_in_no_origin, e_out_no_origin, bias_no_origin = generate_learning_curves(sin_pi, hypothesis_no_origin, train_sizes, noise_level)\n",
    "\n",
    "# Plot learning curves\n",
    "plt.figure(figsize=(12, 8))\n",
    "plot_learning_curves(train_sizes, e_in_const, e_out_const, bias_const, 'Constant Model')\n",
    "plot_learning_curves(train_sizes, e_in_linear, e_out_linear, bias_linear, 'Linear Model')\n",
    "plot_learning_curves(train_sizes, e_in_no_origin, e_out_no_origin, bias_no_origin, 'Linear Model (No Origin)')\n",
    "\n"
   ]
  }
 ],
 "metadata": {
  "kernelspec": {
   "display_name": ".venv",
   "language": "python",
   "name": "python3"
  },
  "language_info": {
   "codemirror_mode": {
    "name": "ipython",
    "version": 3
   },
   "file_extension": ".py",
   "mimetype": "text/x-python",
   "name": "python",
   "nbconvert_exporter": "python",
   "pygments_lexer": "ipython3",
   "version": "3.11.9"
  }
 },
 "nbformat": 4,
 "nbformat_minor": 2
}
