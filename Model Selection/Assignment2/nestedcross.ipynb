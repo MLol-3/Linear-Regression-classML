{
 "cells": [
  {
   "cell_type": "code",
   "execution_count": 2,
   "metadata": {},
   "outputs": [],
   "source": [
    "import numpy as np\n",
    "import pandas as pd\n",
    "from sklearn.datasets import load_iris\n",
    "from sklearn.model_selection import KFold, GridSearchCV\n",
    "from sklearn.linear_model import LinearRegression\n",
    "from sklearn.preprocessing import PolynomialFeatures\n",
    "from sklearn.pipeline import Pipeline\n",
    "from sklearn.metrics import mean_squared_error, r2_score"
   ]
  },
  {
   "cell_type": "markdown",
   "metadata": {},
   "source": [
    "- เราจะใช้ข้อมูลหลายขนาด เพื่อแสดงให้เห็นว่าการทำ Nested Cross-Validation นั้นสามารถปรับค่า hyperparameters และประเมินโมเดลได้ดีกว่าการทำ Cross-Validation ธรรมดา"
   ]
  },
  {
   "cell_type": "code",
   "execution_count": 3,
   "metadata": {},
   "outputs": [],
   "source": [
    "# Load Iris data\n",
    "iris = load_iris()\n",
    "X = iris.data[:, :1]  # ใช้เฉพาะ feature แรกเพื่อให้เหมาะกับ Polynomial Regression\n",
    "y = iris.target"
   ]
  },
  {
   "cell_type": "code",
   "execution_count": 4,
   "metadata": {},
   "outputs": [],
   "source": [
    "# ฟังก์ชันสำหรับคำนวณความเที่ยงตรง (Precision) และความแม่นยำ (Accuracy)\n",
    "def evaluate_model(y_true, y_pred):\n",
    "    mse = mean_squared_error(y_true, y_pred)\n",
    "    rmse = np.sqrt(mse)\n",
    "    r2 = r2_score(y_true, y_pred)\n",
    "    return rmse, r2"
   ]
  },
  {
   "cell_type": "code",
   "execution_count": 5,
   "metadata": {},
   "outputs": [],
   "source": [
    "# Cross Validation\n",
    "def cross_validation(X, y, k=10, degrees=[1, 2, 3, 4]):\n",
    "    kf = KFold(n_splits=k, shuffle=True, random_state=42)\n",
    "    \n",
    "    rmse_values = []\n",
    "    r2_values = []\n",
    "    best_degrees = []\n",
    "    \n",
    "    for fold, (train_index, test_index) in enumerate(kf.split(X)):\n",
    "        X_train, X_test = X[train_index], X[test_index]\n",
    "        y_train, y_test = y[train_index], y[test_index]\n",
    "        \n",
    "        model = Pipeline([\n",
    "            ('poly', PolynomialFeatures()),\n",
    "            ('linear', LinearRegression())\n",
    "        ])\n",
    "        param_grid = {'poly__degree': degrees}\n",
    "        \n",
    "        grid_search = GridSearchCV(model, param_grid, cv=KFold(n_splits=inner_k, shuffle=True, random_state=42), scoring='neg_mean_squared_error')\n",
    "        grid_search.fit(X_train, y_train)\n",
    "        \n",
    "        best_model = grid_search.best_estimator_\n",
    "        best_degree = grid_search.best_params_['poly__degree']\n",
    "        \n",
    "        y_pred = best_model.predict(X_test)\n",
    "        rmse, r2 = evaluate_model(y_test, y_pred)\n",
    "        \n",
    "        rmse_values.append(rmse)\n",
    "        r2_values.append(r2)\n",
    "        best_degrees.append(best_degree)\n",
    "        \n",
    "        print(f\"Cross-Validation Fold {fold + 1} - RMSE: {rmse:.4f}, R2: {r2:.4f}, Degree: {best_degree}\")\n",
    "    \n",
    "    return np.mean(rmse_values), np.mean(r2_values), best_degrees"
   ]
  },
  {
   "cell_type": "markdown",
   "metadata": {},
   "source": [
    "### ใน Nested Cross-Validation จะมีการแบ่งข้อมูลออกเป็นสองลูป:\n",
    "\n",
    "1. ลูปภายนอก (Outer loop): ใช้สำหรับการประเมินโมเดล\n",
    "2. ลูปภายใน (Inner loop): ใช้สำหรับการปรับค่า hyperparameters ของโมเดล"
   ]
  },
  {
   "cell_type": "code",
   "execution_count": 6,
   "metadata": {},
   "outputs": [],
   "source": [
    "# Nested Cross Validation\n",
    "def nested_cross_validation(X, y, outer_k=5, inner_k=3, degrees=[1, 2, 3, 4]):\n",
    "    outer_kf = KFold(n_splits=outer_k, shuffle=True, random_state=42)\n",
    "    outer_rmse_values = []\n",
    "    outer_r2_values = []\n",
    "    best_degrees = []\n",
    "\n",
    "    for train_index, test_index in outer_kf.split(X):\n",
    "        X_train, X_test = X[train_index], X[test_index]\n",
    "        y_train, y_test = y[train_index], y[test_index]\n",
    "        \n",
    "        model = Pipeline([\n",
    "            ('poly', PolynomialFeatures()),\n",
    "            ('linear', LinearRegression())\n",
    "        ])\n",
    "        param_grid = {'poly__degree': degrees}\n",
    "        \n",
    "        inner_kf = KFold(n_splits=inner_k, shuffle=True, random_state=42)\n",
    "        grid_search = GridSearchCV(model, param_grid, cv=inner_kf, scoring='neg_mean_squared_error')\n",
    "        grid_search.fit(X_train, y_train)\n",
    "        \n",
    "        best_model = grid_search.best_estimator_\n",
    "        best_degree = grid_search.best_params_['poly__degree']\n",
    "        \n",
    "        y_pred = best_model.predict(X_test)\n",
    "        rmse, r2 = evaluate_model(y_test, y_pred)\n",
    "        \n",
    "        outer_rmse_values.append(rmse)\n",
    "        outer_r2_values.append(r2)\n",
    "        best_degrees.append(best_degree)\n",
    "    \n",
    "    return np.mean(outer_rmse_values), np.mean(outer_r2_values), best_degrees"
   ]
  },
  {
   "cell_type": "markdown",
   "metadata": {},
   "source": [
    "- ค่า R2 ที่ใกล้เคียงกับ 1 มากที่สุดแสดงว่าโมเดลสามารถอธิบายความแปรปรวนของข้อมูลได้ดี ค่า R2 ที่ต่ำหรือเป็นลบแสดงว่าโมเดลไม่สามารถอธิบายความแปรปรวนได้ดี\n",
    "\n",
    "- ค่า RMSE ที่ต่ำกว่าหมายถึงโมเดลที่มีความแม่นยำมากกว่า"
   ]
  },
  {
   "cell_type": "code",
   "execution_count": 8,
   "metadata": {},
   "outputs": [
    {
     "name": "stdout",
     "output_type": "stream",
     "text": [
      "Nested Cross-Validation - RMSE: 0.4945, R2: 0.6065, Best Degrees: [4, 2, 4, 3, 4]\n",
      "Cross-Validation Fold 1 - RMSE: 0.4909, R2: 0.5697, Degree: 4\n",
      "Cross-Validation Fold 2 - RMSE: 0.3311, R2: 0.8496, Degree: 4\n",
      "Cross-Validation Fold 3 - RMSE: 0.5719, R2: 0.3656, Degree: 4\n",
      "Cross-Validation Fold 4 - RMSE: 0.3648, R2: 0.7766, Degree: 4\n",
      "Cross-Validation Fold 5 - RMSE: 0.4979, R2: 0.6598, Degree: 4\n",
      "Cross-Validation Fold 6 - RMSE: 0.4980, R2: 0.5571, Degree: 3\n",
      "Cross-Validation Fold 7 - RMSE: 0.4147, R2: 0.7640, Degree: 4\n",
      "Cross-Validation Fold 8 - RMSE: 0.4158, R2: 0.6913, Degree: 4\n",
      "Cross-Validation Fold 9 - RMSE: 0.3892, R2: 0.7728, Degree: 4\n",
      "Cross-Validation Fold 10 - RMSE: 0.7865, R2: -0.2654, Degree: 4\n",
      "Cross-Validation - RMSE: 0.4761, R2: 0.5741, Best Degrees: [4, 4, 4, 4, 4, 3, 4, 4, 4, 4]\n"
     ]
    }
   ],
   "source": [
    "# Run nested cross-validation\n",
    "outer_k = 5\n",
    "inner_k = 3\n",
    "\n",
    "rmse_nested, r2_nested, best_degrees_nested = nested_cross_validation(X, y, outer_k=outer_k, inner_k=inner_k)\n",
    "print(f\"Nested Cross-Validation - RMSE: {rmse_nested:.4f}, R2: {r2_nested:.4f}, Best Degrees: {best_degrees_nested}\")\n",
    "\n",
    "# Run cross-validation\n",
    "rmse_cv, r2_cv, best_degrees_cv = cross_validation(X, y, k=10)\n",
    "print(f\"Cross-Validation - RMSE: {rmse_cv:.4f}, R2: {r2_cv:.4f}, Best Degrees: {best_degrees_cv}\")"
   ]
  }
 ],
 "metadata": {
  "kernelspec": {
   "display_name": "Python 3",
   "language": "python",
   "name": "python3"
  },
  "language_info": {
   "codemirror_mode": {
    "name": "ipython",
    "version": 3
   },
   "file_extension": ".py",
   "mimetype": "text/x-python",
   "name": "python",
   "nbconvert_exporter": "python",
   "pygments_lexer": "ipython3",
   "version": "3.11.0"
  }
 },
 "nbformat": 4,
 "nbformat_minor": 2
}
