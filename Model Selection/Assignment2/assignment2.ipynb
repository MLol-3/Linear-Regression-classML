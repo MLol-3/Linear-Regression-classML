{
 "cells": [
  {
   "cell_type": "code",
   "execution_count": 30,
   "metadata": {},
   "outputs": [],
   "source": [
    "import numpy as np\n",
    "import pandas as pd\n",
    "from sklearn.model_selection import KFold, GridSearchCV\n",
    "from sklearn.linear_model import LinearRegression\n",
    "from sklearn.metrics import mean_squared_error, r2_score\n"
   ]
  },
  {
   "cell_type": "markdown",
   "metadata": {},
   "source": [
    "- เราจะใช้ข้อมูลหลายขนาด เพื่อแสดงให้เห็นว่าการทำ Nested Cross-Validation นั้นสามารถปรับค่า hyperparameters และประเมินโมเดลได้ดีกว่าการทำ Cross-Validation ธรรมดา"
   ]
  },
  {
   "cell_type": "code",
   "execution_count": 37,
   "metadata": {},
   "outputs": [
    {
     "name": "stdout",
     "output_type": "stream",
     "text": [
      "Results of data size 20\n"
     ]
    }
   ],
   "source": [
    "# Load data based on user input size\n",
    "n = int(input(\"Enter the size of your data: \"))\n",
    "if n == 20:\n",
    "    print(\"Results of data size 20\")\n",
    "    data = pd.read_csv('/Users/gunnviryasiri/Documents/CDTI4/ml/myowncode/Data/HeightWeight20.csv')\n",
    "elif n == 100:\n",
    "    print(\"Results of data size 100\")\n",
    "    data = pd.read_csv('/Users/gunnviryasiri/Documents/CDTI4/ml/myowncode/Data/HeightWeight100.csv')\n",
    "elif n == 10000:\n",
    "    print(\"Results of data size 10000\")\n",
    "    data = pd.read_csv('/Users/gunnviryasiri/Documents/CDTI4/ml/myowncode/Data/HeightWeight.csv')\n",
    "else:\n",
    "    print(\"Enter the correct data size\")\n",
    "    exit()\n",
    "\n",
    "X = data[['Height']].values\n",
    "y = data['Weight'].values"
   ]
  },
  {
   "cell_type": "code",
   "execution_count": 38,
   "metadata": {},
   "outputs": [],
   "source": [
    "# ฟังก์ชันสำหรับคำนวณความเที่ยงตรง (Precision) และความแม่นยำ (Accuracy)\n",
    "def evaluate_model(y_true, y_pred):\n",
    "    mse = mean_squared_error(y_true, y_pred)\n",
    "    rmse = np.sqrt(mse)\n",
    "    r2 = r2_score(y_true, y_pred)\n",
    "    return rmse, r2"
   ]
  },
  {
   "cell_type": "code",
   "execution_count": 40,
   "metadata": {},
   "outputs": [],
   "source": [
    "# Cross Validation\n",
    "def cross_validation(X, y, k=10):\n",
    "    kf = KFold(n_splits=k, shuffle=True, random_state=42)\n",
    "    \n",
    "    rmse_values = []\n",
    "    r2_values = []\n",
    "    \n",
    "    model = LinearRegression()  # กำหนดโมเดลให้ชัดเจน\n",
    "    \n",
    "    for train_index, test_index in kf.split(X):\n",
    "        X_train, X_test = X[train_index], X[test_index]\n",
    "        y_train, y_test = y[train_index], y[test_index]\n",
    "        \n",
    "        model.fit(X_train, y_train)\n",
    "        \n",
    "        y_pred = model.predict(X_test)\n",
    "        \n",
    "        rmse, r2 = evaluate_model(y_test, y_pred)\n",
    "        rmse_values.append(rmse)\n",
    "        r2_values.append(r2)\n",
    "    \n",
    "    return np.mean(rmse_values), np.mean(r2_values)"
   ]
  },
  {
   "cell_type": "markdown",
   "metadata": {},
   "source": [
    "### ใน Nested Cross-Validation จะมีการแบ่งข้อมูลออกเป็นสองลูป:\n",
    "\n",
    "1. ลูปภายนอก (Outer loop): ใช้สำหรับการประเมินโมเดล\n",
    "2. ลูปภายใน (Inner loop): ใช้สำหรับการปรับค่า hyperparameters ของโมเดล"
   ]
  },
  {
   "cell_type": "code",
   "execution_count": 41,
   "metadata": {},
   "outputs": [],
   "source": [
    "# Nested Cross Validation\n",
    "def nested_cross_validation(X, y, outer_k=5, inner_k=3):\n",
    "    outer_kf = KFold(n_splits=outer_k, shuffle=True, random_state=42)\n",
    "    \n",
    "    outer_rmse_values = []\n",
    "    outer_r2_values = []\n",
    "\n",
    "    for train_index, test_index in outer_kf.split(X):\n",
    "        X_train, X_test = X[train_index], X[test_index]\n",
    "        y_train, y_test = y[train_index], y[test_index]\n",
    "        \n",
    "        # กำหนดโทเดลและค่าให้ parameter\n",
    "        model = LinearRegression()\n",
    "        param_grid = {}  # LinearRegression ไม่มี hyperparameters ที่จะค้นหา\n",
    "        \n",
    "        # Inner loop \n",
    "        inner_kf = KFold(n_splits=inner_k, shuffle=True, random_state=42)\n",
    "        grid_search = GridSearchCV(model, param_grid, cv=inner_kf, scoring='neg_mean_squared_error')\n",
    "        grid_search.fit(X_train, y_train)\n",
    "        \n",
    "        # model ที่ดีสุด\n",
    "        best_model = grid_search.best_estimator_\n",
    "        \n",
    "        # Evaluate ของ outer\n",
    "        y_pred = best_model.predict(X_test)\n",
    "        rmse, r2 = evaluate_model(y_test, y_pred)\n",
    "        \n",
    "        outer_rmse_values.append(rmse)\n",
    "        outer_r2_values.append(r2)\n",
    "    \n",
    "    return np.mean(outer_rmse_values), np.mean(outer_r2_values)"
   ]
  },
  {
   "cell_type": "markdown",
   "metadata": {},
   "source": [
    "- ค่า R2 ที่ใกล้เคียงกับ 1 มากที่สุดแสดงว่าโมเดลสามารถอธิบายความแปรปรวนของข้อมูลได้ดี ค่า R2 ที่ต่ำหรือเป็นลบแสดงว่าโมเดลไม่สามารถอธิบายความแปรปรวนได้ดี\n",
    "\n",
    "- ค่า RMSE ที่ต่ำกว่าหมายถึงโมเดลที่มีความแม่นยำมากกว่า"
   ]
  },
  {
   "cell_type": "code",
   "execution_count": 42,
   "metadata": {},
   "outputs": [
    {
     "name": "stdout",
     "output_type": "stream",
     "text": [
      "Nested Cross-Validation - RMSE: 7.5564, R2: 0.7963\n",
      "Cross-Validation - RMSE: 7.2139, R2: -1.1526\n"
     ]
    }
   ],
   "source": [
    "# Run nested cross-validation\n",
    "outer_k = 5\n",
    "inner_k = 3\n",
    "\n",
    "rmse_nested, r2_nested = nested_cross_validation(X, y, outer_k=outer_k, inner_k=inner_k)\n",
    "print(f\"Nested Cross-Validation - RMSE: {rmse_nested:.4f}, R2: {r2_nested:.4f}\")\n",
    "\n",
    "# Run cross-validation\n",
    "rmse_cv, r2_cv = cross_validation(X, y, k=10)\n",
    "print(f\"Cross-Validation - RMSE: {rmse_cv:.4f}, R2: {r2_cv:.4f}\")"
   ]
  },
  {
   "cell_type": "code",
   "execution_count": 43,
   "metadata": {},
   "outputs": [
    {
     "name": "stdout",
     "output_type": "stream",
     "text": [
      "Nested Cross-Validation - RMSE: 7.5564, R2: 0.7963\n",
      "Cross-Validation - RMSE: 7.2139, R2: -1.1526\n"
     ]
    }
   ],
   "source": [
    "# Run nested cross-validation\n",
    "outer_k = 5\n",
    "inner_k = 3\n",
    "\n",
    "rmse_nested, r2_nested = nested_cross_validation(X, y, outer_k=outer_k, inner_k=inner_k)\n",
    "print(f\"Nested Cross-Validation - RMSE: {rmse_nested:.4f}, R2: {r2_nested:.4f}\")\n",
    "\n",
    "# Run cross-validation\n",
    "rmse_cv, r2_cv = cross_validation(X, y, k=10)\n",
    "print(f\"Cross-Validation - RMSE: {rmse_cv:.4f}, R2: {r2_cv:.4f}\")"
   ]
  }
 ],
 "metadata": {
  "kernelspec": {
   "display_name": "Python 3",
   "language": "python",
   "name": "python3"
  },
  "language_info": {
   "codemirror_mode": {
    "name": "ipython",
    "version": 3
   },
   "file_extension": ".py",
   "mimetype": "text/x-python",
   "name": "python",
   "nbconvert_exporter": "python",
   "pygments_lexer": "ipython3",
   "version": "3.11.0"
  }
 },
 "nbformat": 4,
 "nbformat_minor": 2
}
